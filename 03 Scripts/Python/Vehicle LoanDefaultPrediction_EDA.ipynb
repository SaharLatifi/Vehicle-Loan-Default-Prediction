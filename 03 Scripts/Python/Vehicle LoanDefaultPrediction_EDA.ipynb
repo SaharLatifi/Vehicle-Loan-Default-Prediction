{
 "cells": [
  {
   "cell_type": "markdown",
   "id": "683f795e",
   "metadata": {},
   "source": [
    "<span style=\"font-size: 14px;color:blue\"><b>*Project Scope*</b></span>\n",
    "<br>.......\n",
    "<br>.......\n",
    "<br>**Objectives** \n",
    "<br>.......\n",
    "<br>.......\n",
    "\n",
    "**Data Source**\n",
    "<br>........\n",
    "**This script performs Exploratory Data Analysis (EDA) on the cleaned .... dataset. It includes statistical summaries,\n",
    "visualization of key variables, and identification of patterns and trends within the data. The analysis aims to provide\n",
    "insights into the distribution of ... types, temporal patterns, and geographical concentrations.**"
   ]
  },
  {
   "cell_type": "markdown",
   "id": "9d67943e",
   "metadata": {},
   "source": [
    "  <span style=\"font-size: 22px;color:blue\">1- Importing Libraries  </span>"
   ]
  },
  {
   "cell_type": "code",
   "execution_count": 24,
   "id": "fb45d449",
   "metadata": {},
   "outputs": [],
   "source": [
    "import pandas as pd\n",
    "from IPython.display import display\n",
    "import seaborn as sns\n",
    "from datetime import datetime"
   ]
  },
  {
   "cell_type": "markdown",
   "id": "531fb60c",
   "metadata": {},
   "source": [
    "  <span style=\"font-size: 22px;color:blue\">2- Reading the data ( pickle files)  </span>"
   ]
  },
  {
   "cell_type": "code",
   "execution_count": null,
   "id": "f4155ffa",
   "metadata": {},
   "outputs": [],
   "source": [
    "air_traffic = pd.read_pickle('')\n",
    "air_traffic.head()"
   ]
  },
  {
   "cell_type": "markdown",
   "id": "ecff9dc6",
   "metadata": {},
   "source": [
    "<span style=\"font-size: 22px;color:blue\">3- Exploring the data  </span>"
   ]
  },
  {
   "cell_type": "markdown",
   "id": "ce9f60eb",
   "metadata": {},
   "source": [
    "<span style=\"font-size: 22px;color:blue\">4- Visualizing the data  </span>"
   ]
  },
  {
   "cell_type": "code",
   "execution_count": null,
   "id": "af5b3c71",
   "metadata": {},
   "outputs": [],
   "source": []
  }
 ],
 "metadata": {
  "kernelspec": {
   "display_name": "Python 3 (ipykernel)",
   "language": "python",
   "name": "python3"
  },
  "language_info": {
   "codemirror_mode": {
    "name": "ipython",
    "version": 3
   },
   "file_extension": ".py",
   "mimetype": "text/x-python",
   "name": "python",
   "nbconvert_exporter": "python",
   "pygments_lexer": "ipython3",
   "version": "3.9.13"
  }
 },
 "nbformat": 4,
 "nbformat_minor": 5
}
