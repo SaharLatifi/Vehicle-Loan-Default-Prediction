{
 "cells": [
  {
   "cell_type": "code",
   "execution_count": 2,
   "id": "25d34c45",
   "metadata": {},
   "outputs": [],
   "source": [
    "import pandas as pd"
   ]
  },
  {
   "cell_type": "code",
   "execution_count": 9,
   "id": "8697682d",
   "metadata": {},
   "outputs": [],
   "source": [
    "df_postfeb = pd.read_excel(\"FerenceReport_BasePostFeb.xlsx\")\n",
    "df_prefeb = pd.read_excel(\"FerenceReport_BasePreFeb.xlsx\")"
   ]
  },
  {
   "cell_type": "code",
   "execution_count": 14,
   "id": "9dbd45d1",
   "metadata": {},
   "outputs": [
    {
     "name": "stdout",
     "output_type": "stream",
     "text": [
      "(110, 115)\n",
      "(200, 115)\n"
     ]
    }
   ],
   "source": [
    "print ( df_prefeb.shape )\n",
    "print (  df_postfeb.shape ) \n"
   ]
  },
  {
   "cell_type": "code",
   "execution_count": 11,
   "id": "5df30429",
   "metadata": {},
   "outputs": [
    {
     "name": "stdout",
     "output_type": "stream",
     "text": [
      "equal\n"
     ]
    }
   ],
   "source": [
    "if df_prefeb.columns.equals(df_postfeb.columns) :\n",
    "    print (\"equal\")\n",
    "else:\n",
    "    print(\"notequal\")"
   ]
  },
  {
   "cell_type": "code",
   "execution_count": 12,
   "id": "6226e709",
   "metadata": {},
   "outputs": [],
   "source": [
    "column_diff = set(df_prefeb) ^ set(df_postfeb)"
   ]
  },
  {
   "cell_type": "code",
   "execution_count": 8,
   "id": "c83f9639",
   "metadata": {},
   "outputs": [
    {
     "data": {
      "text/plain": [
       "{'Q30A_Othr', 'Q50', 'Q51', 'Q_30A_Othr_'}"
      ]
     },
     "execution_count": 8,
     "metadata": {},
     "output_type": "execute_result"
    }
   ],
   "source": [
    "column_diff"
   ]
  },
  {
   "cell_type": "code",
   "execution_count": null,
   "id": "38a29a4c",
   "metadata": {},
   "outputs": [],
   "source": []
  }
 ],
 "metadata": {
  "kernelspec": {
   "display_name": "Python 3 (ipykernel)",
   "language": "python",
   "name": "python3"
  },
  "language_info": {
   "codemirror_mode": {
    "name": "ipython",
    "version": 3
   },
   "file_extension": ".py",
   "mimetype": "text/x-python",
   "name": "python",
   "nbconvert_exporter": "python",
   "pygments_lexer": "ipython3",
   "version": "3.9.13"
  }
 },
 "nbformat": 4,
 "nbformat_minor": 5
}
